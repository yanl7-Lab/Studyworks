{
 "cells": [
  {
   "cell_type": "markdown",
   "id": "68c7bfd6-fe6d-4e5e-8dde-8e9984e64733",
   "metadata": {},
   "source": [
    "# 第二章关键词提取"
   ]
  },
  {
   "cell_type": "markdown",
   "id": "fac55f20-2a3c-4083-bfb8-57f1ab2cdfec",
   "metadata": {},
   "source": [
    "## 2.1TextRank关键词提取算法"
   ]
  },
  {
   "cell_type": "markdown",
   "id": "8fd53e4c-9cd7-40be-8a9b-f6740dea38a2",
   "metadata": {},
   "source": [
    "### 2.1.1TextRank原理及流程"
   ]
  },
  {
   "cell_type": "markdown",
   "id": "52b15b2f-7680-4e12-a30f-c9e7b685962e",
   "metadata": {},
   "source": [
    "#结巴分词实践"
   ]
  },
  {
   "cell_type": "markdown",
   "id": "48df9cae-8d01-4dfe-9fdf-a6e7cc6ca1f5",
   "metadata": {},
   "source": [
    "##结巴分词的三种模式"
   ]
  },
  {
   "cell_type": "markdown",
   "id": "8327d79b-9171-4265-9d64-a71d6bf5986f",
   "metadata": {},
   "source": [
    "###精确模式"
   ]
  },
  {
   "cell_type": "code",
   "execution_count": 3,
   "id": "deb9b3a0-6f5b-4b54-a58b-5bca48a77f77",
   "metadata": {},
   "outputs": [
    {
     "name": "stderr",
     "output_type": "stream",
     "text": [
      "Building prefix dict from the default dictionary ...\n",
      "Loading model from cache C:\\Users\\14104\\AppData\\Local\\Temp\\jieba.cache\n",
      "Loading model cost 1.570 seconds.\n",
      "Prefix dict has been built successfully.\n"
     ]
    },
    {
     "name": "stdout",
     "output_type": "stream",
     "text": [
      "Default Mode: 我/ 来到/ 北京/ 清华大学\n"
     ]
    }
   ],
   "source": [
    "import jieba\n",
    "seg_list = jieba.cut(\"我来到北京清华大学\", cut_all=False)\n",
    "print(\"Default Mode: \" + \"/ \".join(seg_list))  # 精确模式\n"
   ]
  },
  {
   "cell_type": "markdown",
   "id": "e6e622bf-ff28-4c53-9680-c42d1d6659b9",
   "metadata": {},
   "source": [
    "###全模式"
   ]
  },
  {
   "cell_type": "code",
   "execution_count": 4,
   "id": "60c3d60a-ce5a-4916-a0bb-c7bbed2a366f",
   "metadata": {},
   "outputs": [
    {
     "name": "stdout",
     "output_type": "stream",
     "text": [
      "Full Mode: 我/ 来到/ 北京/ 清华/ 清华大学/ 华大/ 大学\n"
     ]
    }
   ],
   "source": [
    "import jieba\n",
    "seg_list = jieba.cut(\"我来到北京清华大学\", cut_all=True)\n",
    "print(\"Full Mode: \" + \"/ \".join(seg_list))  # 全模式"
   ]
  },
  {
   "cell_type": "markdown",
   "id": "9950656e-08f9-4d27-b907-cb2cd4901d03",
   "metadata": {},
   "source": [
    "###搜索引擎模式"
   ]
  },
  {
   "cell_type": "code",
   "execution_count": 5,
   "id": "88466846-302f-4d0d-9dda-ab22293efe28",
   "metadata": {},
   "outputs": [
    {
     "name": "stdout",
     "output_type": "stream",
     "text": [
      "小明, 硕士, 毕业, 于, 中国, 科学, 学院, 科学院, 中国科学院, 计算, 计算所, ，, 后, 在, 日本, 京都, 大学, 日本京都大学, 深造\n"
     ]
    }
   ],
   "source": [
    "import jieba\n",
    "seg_list = jieba.cut_for_search(\"小明硕士毕业于中国科学院计算所，后在日本京都大学深造\")  # 搜索引擎模式\n",
    "print(\", \".join(seg_list))"
   ]
  },
  {
   "cell_type": "markdown",
   "id": "879569a1-8058-4232-9d89-32f992df6a6b",
   "metadata": {},
   "source": [
    "##载入词典"
   ]
  },
  {
   "cell_type": "code",
   "execution_count": 6,
   "id": "6c018110-5cb4-4d76-8562-0a957b520372",
   "metadata": {},
   "outputs": [
    {
     "name": "stdout",
     "output_type": "stream",
     "text": [
      "Default Mode: 谢/彦/龙/即将/是/自然语言/处理/方面/的/高手\n"
     ]
    }
   ],
   "source": [
    "jieba.load_userdict(\"userdict.txt\")\n",
    "seg_list = jieba.cut(\"谢彦龙即将是自然语言处理方面的高手\", cut_all=False, HMM=False)\n",
    "print(\"Default Mode: \" + \"/\".join(seg_list))"
   ]
  }
 ],
 "metadata": {
  "kernelspec": {
   "display_name": "Python 3 (ipykernel)",
   "language": "python",
   "name": "python3"
  },
  "language_info": {
   "codemirror_mode": {
    "name": "ipython",
    "version": 3
   },
   "file_extension": ".py",
   "mimetype": "text/x-python",
   "name": "python",
   "nbconvert_exporter": "python",
   "pygments_lexer": "ipython3",
   "version": "3.9.21"
  }
 },
 "nbformat": 4,
 "nbformat_minor": 5
}
